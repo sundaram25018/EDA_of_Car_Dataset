{
 "cells": [
  {
   "cell_type": "code",
   "execution_count": 13,
   "metadata": {},
   "outputs": [],
   "source": [
    "import pandas as pd\n",
    "import numpy as np"
   ]
  },
  {
   "cell_type": "code",
   "execution_count": 14,
   "metadata": {},
   "outputs": [],
   "source": [
    "df = pd.read_csv(\"car_data.csv\")\n"
   ]
  },
  {
   "cell_type": "code",
   "execution_count": 15,
   "metadata": {},
   "outputs": [
    {
     "data": {
      "text/html": [
       "<div>\n",
       "<style scoped>\n",
       "    .dataframe tbody tr th:only-of-type {\n",
       "        vertical-align: middle;\n",
       "    }\n",
       "\n",
       "    .dataframe tbody tr th {\n",
       "        vertical-align: top;\n",
       "    }\n",
       "\n",
       "    .dataframe thead th {\n",
       "        text-align: right;\n",
       "    }\n",
       "</style>\n",
       "<table border=\"1\" class=\"dataframe\">\n",
       "  <thead>\n",
       "    <tr style=\"text-align: right;\">\n",
       "      <th></th>\n",
       "      <th>name</th>\n",
       "      <th>year</th>\n",
       "      <th>selling_price</th>\n",
       "      <th>km_driven</th>\n",
       "      <th>fuel</th>\n",
       "      <th>seller_type</th>\n",
       "      <th>transmission</th>\n",
       "      <th>owner</th>\n",
       "    </tr>\n",
       "  </thead>\n",
       "  <tbody>\n",
       "    <tr>\n",
       "      <th>0</th>\n",
       "      <td>Maruti 800 AC</td>\n",
       "      <td>2007</td>\n",
       "      <td>60000</td>\n",
       "      <td>70000</td>\n",
       "      <td>Petrol</td>\n",
       "      <td>Individual</td>\n",
       "      <td>Manual</td>\n",
       "      <td>First Owner</td>\n",
       "    </tr>\n",
       "    <tr>\n",
       "      <th>1</th>\n",
       "      <td>Maruti Wagon R LXI Minor</td>\n",
       "      <td>2007</td>\n",
       "      <td>135000</td>\n",
       "      <td>50000</td>\n",
       "      <td>Petrol</td>\n",
       "      <td>Individual</td>\n",
       "      <td>Manual</td>\n",
       "      <td>First Owner</td>\n",
       "    </tr>\n",
       "    <tr>\n",
       "      <th>2</th>\n",
       "      <td>Hyundai Verna 1.6 SX</td>\n",
       "      <td>2012</td>\n",
       "      <td>600000</td>\n",
       "      <td>100000</td>\n",
       "      <td>Diesel</td>\n",
       "      <td>Individual</td>\n",
       "      <td>Manual</td>\n",
       "      <td>First Owner</td>\n",
       "    </tr>\n",
       "    <tr>\n",
       "      <th>3</th>\n",
       "      <td>Datsun RediGO T Option</td>\n",
       "      <td>2017</td>\n",
       "      <td>250000</td>\n",
       "      <td>46000</td>\n",
       "      <td>Petrol</td>\n",
       "      <td>Individual</td>\n",
       "      <td>Manual</td>\n",
       "      <td>First Owner</td>\n",
       "    </tr>\n",
       "    <tr>\n",
       "      <th>4</th>\n",
       "      <td>Honda Amaze VX i-DTEC</td>\n",
       "      <td>2014</td>\n",
       "      <td>450000</td>\n",
       "      <td>141000</td>\n",
       "      <td>Diesel</td>\n",
       "      <td>Individual</td>\n",
       "      <td>Manual</td>\n",
       "      <td>Second Owner</td>\n",
       "    </tr>\n",
       "    <tr>\n",
       "      <th>...</th>\n",
       "      <td>...</td>\n",
       "      <td>...</td>\n",
       "      <td>...</td>\n",
       "      <td>...</td>\n",
       "      <td>...</td>\n",
       "      <td>...</td>\n",
       "      <td>...</td>\n",
       "      <td>...</td>\n",
       "    </tr>\n",
       "    <tr>\n",
       "      <th>4335</th>\n",
       "      <td>Hyundai i20 Magna 1.4 CRDi (Diesel)</td>\n",
       "      <td>2014</td>\n",
       "      <td>409999</td>\n",
       "      <td>80000</td>\n",
       "      <td>Diesel</td>\n",
       "      <td>Individual</td>\n",
       "      <td>Manual</td>\n",
       "      <td>Second Owner</td>\n",
       "    </tr>\n",
       "    <tr>\n",
       "      <th>4336</th>\n",
       "      <td>Hyundai i20 Magna 1.4 CRDi</td>\n",
       "      <td>2014</td>\n",
       "      <td>409999</td>\n",
       "      <td>80000</td>\n",
       "      <td>Diesel</td>\n",
       "      <td>Individual</td>\n",
       "      <td>Manual</td>\n",
       "      <td>Second Owner</td>\n",
       "    </tr>\n",
       "    <tr>\n",
       "      <th>4337</th>\n",
       "      <td>Maruti 800 AC BSIII</td>\n",
       "      <td>2009</td>\n",
       "      <td>110000</td>\n",
       "      <td>83000</td>\n",
       "      <td>Petrol</td>\n",
       "      <td>Individual</td>\n",
       "      <td>Manual</td>\n",
       "      <td>Second Owner</td>\n",
       "    </tr>\n",
       "    <tr>\n",
       "      <th>4338</th>\n",
       "      <td>Hyundai Creta 1.6 CRDi SX Option</td>\n",
       "      <td>2016</td>\n",
       "      <td>865000</td>\n",
       "      <td>90000</td>\n",
       "      <td>Diesel</td>\n",
       "      <td>Individual</td>\n",
       "      <td>Manual</td>\n",
       "      <td>First Owner</td>\n",
       "    </tr>\n",
       "    <tr>\n",
       "      <th>4339</th>\n",
       "      <td>Renault KWID RXT</td>\n",
       "      <td>2016</td>\n",
       "      <td>225000</td>\n",
       "      <td>40000</td>\n",
       "      <td>Petrol</td>\n",
       "      <td>Individual</td>\n",
       "      <td>Manual</td>\n",
       "      <td>First Owner</td>\n",
       "    </tr>\n",
       "  </tbody>\n",
       "</table>\n",
       "<p>4340 rows × 8 columns</p>\n",
       "</div>"
      ],
      "text/plain": [
       "                                     name  year  selling_price  km_driven   \n",
       "0                           Maruti 800 AC  2007          60000      70000  \\\n",
       "1                Maruti Wagon R LXI Minor  2007         135000      50000   \n",
       "2                    Hyundai Verna 1.6 SX  2012         600000     100000   \n",
       "3                  Datsun RediGO T Option  2017         250000      46000   \n",
       "4                   Honda Amaze VX i-DTEC  2014         450000     141000   \n",
       "...                                   ...   ...            ...        ...   \n",
       "4335  Hyundai i20 Magna 1.4 CRDi (Diesel)  2014         409999      80000   \n",
       "4336           Hyundai i20 Magna 1.4 CRDi  2014         409999      80000   \n",
       "4337                  Maruti 800 AC BSIII  2009         110000      83000   \n",
       "4338     Hyundai Creta 1.6 CRDi SX Option  2016         865000      90000   \n",
       "4339                     Renault KWID RXT  2016         225000      40000   \n",
       "\n",
       "        fuel seller_type transmission         owner  \n",
       "0     Petrol  Individual       Manual   First Owner  \n",
       "1     Petrol  Individual       Manual   First Owner  \n",
       "2     Diesel  Individual       Manual   First Owner  \n",
       "3     Petrol  Individual       Manual   First Owner  \n",
       "4     Diesel  Individual       Manual  Second Owner  \n",
       "...      ...         ...          ...           ...  \n",
       "4335  Diesel  Individual       Manual  Second Owner  \n",
       "4336  Diesel  Individual       Manual  Second Owner  \n",
       "4337  Petrol  Individual       Manual  Second Owner  \n",
       "4338  Diesel  Individual       Manual   First Owner  \n",
       "4339  Petrol  Individual       Manual   First Owner  \n",
       "\n",
       "[4340 rows x 8 columns]"
      ]
     },
     "execution_count": 15,
     "metadata": {},
     "output_type": "execute_result"
    }
   ],
   "source": [
    "df"
   ]
  },
  {
   "cell_type": "code",
   "execution_count": 16,
   "metadata": {},
   "outputs": [
    {
     "data": {
      "text/plain": [
       "(4340, 8)"
      ]
     },
     "execution_count": 16,
     "metadata": {},
     "output_type": "execute_result"
    }
   ],
   "source": [
    "df.shape"
   ]
  },
  {
   "cell_type": "code",
   "execution_count": 17,
   "metadata": {},
   "outputs": [
    {
     "data": {
      "text/plain": [
       "name             0\n",
       "year             0\n",
       "selling_price    0\n",
       "km_driven        0\n",
       "fuel             0\n",
       "seller_type      0\n",
       "transmission     0\n",
       "owner            0\n",
       "dtype: int64"
      ]
     },
     "execution_count": 17,
     "metadata": {},
     "output_type": "execute_result"
    }
   ],
   "source": [
    "df.isnull().sum()"
   ]
  },
  {
   "cell_type": "code",
   "execution_count": 18,
   "metadata": {},
   "outputs": [
    {
     "data": {
      "text/html": [
       "<div>\n",
       "<style scoped>\n",
       "    .dataframe tbody tr th:only-of-type {\n",
       "        vertical-align: middle;\n",
       "    }\n",
       "\n",
       "    .dataframe tbody tr th {\n",
       "        vertical-align: top;\n",
       "    }\n",
       "\n",
       "    .dataframe thead th {\n",
       "        text-align: right;\n",
       "    }\n",
       "</style>\n",
       "<table border=\"1\" class=\"dataframe\">\n",
       "  <thead>\n",
       "    <tr style=\"text-align: right;\">\n",
       "      <th></th>\n",
       "      <th>year</th>\n",
       "      <th>selling_price</th>\n",
       "      <th>km_driven</th>\n",
       "    </tr>\n",
       "  </thead>\n",
       "  <tbody>\n",
       "    <tr>\n",
       "      <th>count</th>\n",
       "      <td>4340.000000</td>\n",
       "      <td>4.340000e+03</td>\n",
       "      <td>4340.000000</td>\n",
       "    </tr>\n",
       "    <tr>\n",
       "      <th>mean</th>\n",
       "      <td>2013.090783</td>\n",
       "      <td>5.041273e+05</td>\n",
       "      <td>66215.777419</td>\n",
       "    </tr>\n",
       "    <tr>\n",
       "      <th>std</th>\n",
       "      <td>4.215344</td>\n",
       "      <td>5.785487e+05</td>\n",
       "      <td>46644.102194</td>\n",
       "    </tr>\n",
       "    <tr>\n",
       "      <th>min</th>\n",
       "      <td>1992.000000</td>\n",
       "      <td>2.000000e+04</td>\n",
       "      <td>1.000000</td>\n",
       "    </tr>\n",
       "    <tr>\n",
       "      <th>25%</th>\n",
       "      <td>2011.000000</td>\n",
       "      <td>2.087498e+05</td>\n",
       "      <td>35000.000000</td>\n",
       "    </tr>\n",
       "    <tr>\n",
       "      <th>50%</th>\n",
       "      <td>2014.000000</td>\n",
       "      <td>3.500000e+05</td>\n",
       "      <td>60000.000000</td>\n",
       "    </tr>\n",
       "    <tr>\n",
       "      <th>75%</th>\n",
       "      <td>2016.000000</td>\n",
       "      <td>6.000000e+05</td>\n",
       "      <td>90000.000000</td>\n",
       "    </tr>\n",
       "    <tr>\n",
       "      <th>max</th>\n",
       "      <td>2020.000000</td>\n",
       "      <td>8.900000e+06</td>\n",
       "      <td>806599.000000</td>\n",
       "    </tr>\n",
       "  </tbody>\n",
       "</table>\n",
       "</div>"
      ],
      "text/plain": [
       "              year  selling_price      km_driven\n",
       "count  4340.000000   4.340000e+03    4340.000000\n",
       "mean   2013.090783   5.041273e+05   66215.777419\n",
       "std       4.215344   5.785487e+05   46644.102194\n",
       "min    1992.000000   2.000000e+04       1.000000\n",
       "25%    2011.000000   2.087498e+05   35000.000000\n",
       "50%    2014.000000   3.500000e+05   60000.000000\n",
       "75%    2016.000000   6.000000e+05   90000.000000\n",
       "max    2020.000000   8.900000e+06  806599.000000"
      ]
     },
     "execution_count": 18,
     "metadata": {},
     "output_type": "execute_result"
    }
   ],
   "source": [
    "df.describe()"
   ]
  },
  {
   "cell_type": "code",
   "execution_count": 22,
   "metadata": {},
   "outputs": [
    {
     "data": {
      "text/plain": [
       "3872    Audi RS7 2015-2019 Sportback Performance\n",
       "Name: name, dtype: object"
      ]
     },
     "execution_count": 22,
     "metadata": {},
     "output_type": "execute_result"
    }
   ],
   "source": [
    "df[df['selling_price']==df['selling_price'].max()]['name']"
   ]
  },
  {
   "cell_type": "code",
   "execution_count": 23,
   "metadata": {},
   "outputs": [
    {
     "data": {
      "text/plain": [
       "2662    Ford Ikon 1.6 ZXI NXt\n",
       "Name: name, dtype: object"
      ]
     },
     "execution_count": 23,
     "metadata": {},
     "output_type": "execute_result"
    }
   ],
   "source": [
    "df[df['selling_price']==df['selling_price'].min()]['name']"
   ]
  },
  {
   "cell_type": "code",
   "execution_count": 24,
   "metadata": {},
   "outputs": [
    {
     "data": {
      "text/plain": [
       "name             object\n",
       "year              int64\n",
       "selling_price     int64\n",
       "km_driven         int64\n",
       "fuel             object\n",
       "seller_type      object\n",
       "transmission     object\n",
       "owner            object\n",
       "dtype: object"
      ]
     },
     "execution_count": 24,
     "metadata": {},
     "output_type": "execute_result"
    }
   ],
   "source": [
    "df.dtypes"
   ]
  },
  {
   "cell_type": "code",
   "execution_count": 25,
   "metadata": {},
   "outputs": [
    {
     "data": {
      "text/html": [
       "<div>\n",
       "<style scoped>\n",
       "    .dataframe tbody tr th:only-of-type {\n",
       "        vertical-align: middle;\n",
       "    }\n",
       "\n",
       "    .dataframe tbody tr th {\n",
       "        vertical-align: top;\n",
       "    }\n",
       "\n",
       "    .dataframe thead th {\n",
       "        text-align: right;\n",
       "    }\n",
       "</style>\n",
       "<table border=\"1\" class=\"dataframe\">\n",
       "  <thead>\n",
       "    <tr style=\"text-align: right;\">\n",
       "      <th></th>\n",
       "      <th>name</th>\n",
       "      <th>year</th>\n",
       "      <th>selling_price</th>\n",
       "      <th>km_driven</th>\n",
       "      <th>fuel</th>\n",
       "      <th>seller_type</th>\n",
       "      <th>transmission</th>\n",
       "      <th>owner</th>\n",
       "    </tr>\n",
       "  </thead>\n",
       "  <tbody>\n",
       "    <tr>\n",
       "      <th>0</th>\n",
       "      <td>Maruti 800 AC</td>\n",
       "      <td>2007</td>\n",
       "      <td>60000</td>\n",
       "      <td>70000</td>\n",
       "      <td>Petrol</td>\n",
       "      <td>Individual</td>\n",
       "      <td>Manual</td>\n",
       "      <td>First Owner</td>\n",
       "    </tr>\n",
       "    <tr>\n",
       "      <th>1</th>\n",
       "      <td>Maruti Wagon R LXI Minor</td>\n",
       "      <td>2007</td>\n",
       "      <td>135000</td>\n",
       "      <td>50000</td>\n",
       "      <td>Petrol</td>\n",
       "      <td>Individual</td>\n",
       "      <td>Manual</td>\n",
       "      <td>First Owner</td>\n",
       "    </tr>\n",
       "    <tr>\n",
       "      <th>2</th>\n",
       "      <td>Hyundai Verna 1.6 SX</td>\n",
       "      <td>2012</td>\n",
       "      <td>600000</td>\n",
       "      <td>100000</td>\n",
       "      <td>Diesel</td>\n",
       "      <td>Individual</td>\n",
       "      <td>Manual</td>\n",
       "      <td>First Owner</td>\n",
       "    </tr>\n",
       "    <tr>\n",
       "      <th>3</th>\n",
       "      <td>Datsun RediGO T Option</td>\n",
       "      <td>2017</td>\n",
       "      <td>250000</td>\n",
       "      <td>46000</td>\n",
       "      <td>Petrol</td>\n",
       "      <td>Individual</td>\n",
       "      <td>Manual</td>\n",
       "      <td>First Owner</td>\n",
       "    </tr>\n",
       "    <tr>\n",
       "      <th>4</th>\n",
       "      <td>Honda Amaze VX i-DTEC</td>\n",
       "      <td>2014</td>\n",
       "      <td>450000</td>\n",
       "      <td>141000</td>\n",
       "      <td>Diesel</td>\n",
       "      <td>Individual</td>\n",
       "      <td>Manual</td>\n",
       "      <td>Second Owner</td>\n",
       "    </tr>\n",
       "  </tbody>\n",
       "</table>\n",
       "</div>"
      ],
      "text/plain": [
       "                       name  year  selling_price  km_driven    fuel   \n",
       "0             Maruti 800 AC  2007          60000      70000  Petrol  \\\n",
       "1  Maruti Wagon R LXI Minor  2007         135000      50000  Petrol   \n",
       "2      Hyundai Verna 1.6 SX  2012         600000     100000  Diesel   \n",
       "3    Datsun RediGO T Option  2017         250000      46000  Petrol   \n",
       "4     Honda Amaze VX i-DTEC  2014         450000     141000  Diesel   \n",
       "\n",
       "  seller_type transmission         owner  \n",
       "0  Individual       Manual   First Owner  \n",
       "1  Individual       Manual   First Owner  \n",
       "2  Individual       Manual   First Owner  \n",
       "3  Individual       Manual   First Owner  \n",
       "4  Individual       Manual  Second Owner  "
      ]
     },
     "execution_count": 25,
     "metadata": {},
     "output_type": "execute_result"
    }
   ],
   "source": [
    "df.head()"
   ]
  },
  {
   "cell_type": "code",
   "execution_count": 26,
   "metadata": {},
   "outputs": [
    {
     "data": {
      "text/plain": [
       "fuel\n",
       "Diesel      2153\n",
       "Petrol      2123\n",
       "CNG           40\n",
       "LPG           23\n",
       "Electric       1\n",
       "Name: count, dtype: int64"
      ]
     },
     "execution_count": 26,
     "metadata": {},
     "output_type": "execute_result"
    }
   ],
   "source": [
    "df['fuel'].value_counts()"
   ]
  },
  {
   "cell_type": "code",
   "execution_count": 27,
   "metadata": {},
   "outputs": [
    {
     "data": {
      "text/html": [
       "<div>\n",
       "<style scoped>\n",
       "    .dataframe tbody tr th:only-of-type {\n",
       "        vertical-align: middle;\n",
       "    }\n",
       "\n",
       "    .dataframe tbody tr th {\n",
       "        vertical-align: top;\n",
       "    }\n",
       "\n",
       "    .dataframe thead th {\n",
       "        text-align: right;\n",
       "    }\n",
       "</style>\n",
       "<table border=\"1\" class=\"dataframe\">\n",
       "  <thead>\n",
       "    <tr style=\"text-align: right;\">\n",
       "      <th></th>\n",
       "      <th>name</th>\n",
       "      <th>year</th>\n",
       "      <th>selling_price</th>\n",
       "      <th>km_driven</th>\n",
       "      <th>fuel</th>\n",
       "      <th>seller_type</th>\n",
       "      <th>transmission</th>\n",
       "      <th>owner</th>\n",
       "    </tr>\n",
       "  </thead>\n",
       "  <tbody>\n",
       "    <tr>\n",
       "      <th>4145</th>\n",
       "      <td>Toyota Camry Hybrid</td>\n",
       "      <td>2006</td>\n",
       "      <td>310000</td>\n",
       "      <td>62000</td>\n",
       "      <td>Electric</td>\n",
       "      <td>Dealer</td>\n",
       "      <td>Automatic</td>\n",
       "      <td>Second Owner</td>\n",
       "    </tr>\n",
       "  </tbody>\n",
       "</table>\n",
       "</div>"
      ],
      "text/plain": [
       "                     name  year  selling_price  km_driven      fuel   \n",
       "4145  Toyota Camry Hybrid  2006         310000      62000  Electric  \\\n",
       "\n",
       "     seller_type transmission         owner  \n",
       "4145      Dealer    Automatic  Second Owner  "
      ]
     },
     "execution_count": 27,
     "metadata": {},
     "output_type": "execute_result"
    }
   ],
   "source": [
    "df[df['fuel']=='Electric']"
   ]
  },
  {
   "cell_type": "code",
   "execution_count": 28,
   "metadata": {},
   "outputs": [
    {
     "data": {
      "text/plain": [
       "array(['Individual', 'Dealer', 'Trustmark Dealer'], dtype=object)"
      ]
     },
     "execution_count": 28,
     "metadata": {},
     "output_type": "execute_result"
    }
   ],
   "source": [
    "df['seller_type'].unique()"
   ]
  },
  {
   "cell_type": "code",
   "execution_count": 29,
   "metadata": {},
   "outputs": [
    {
     "data": {
      "text/plain": [
       "seller_type\n",
       "Individual          3244\n",
       "Dealer               994\n",
       "Trustmark Dealer     102\n",
       "Name: count, dtype: int64"
      ]
     },
     "execution_count": 29,
     "metadata": {},
     "output_type": "execute_result"
    }
   ],
   "source": [
    "df['seller_type'].value_counts()"
   ]
  },
  {
   "cell_type": "code",
   "execution_count": 30,
   "metadata": {},
   "outputs": [
    {
     "data": {
      "text/plain": [
       "transmission\n",
       "Manual       3892\n",
       "Automatic     448\n",
       "Name: count, dtype: int64"
      ]
     },
     "execution_count": 30,
     "metadata": {},
     "output_type": "execute_result"
    }
   ],
   "source": [
    "df['transmission'].value_counts()"
   ]
  },
  {
   "cell_type": "code",
   "execution_count": 31,
   "metadata": {},
   "outputs": [
    {
     "data": {
      "text/plain": [
       "owner\n",
       "First Owner             2832\n",
       "Second Owner            1106\n",
       "Third Owner              304\n",
       "Fourth & Above Owner      81\n",
       "Test Drive Car            17\n",
       "Name: count, dtype: int64"
      ]
     },
     "execution_count": 31,
     "metadata": {},
     "output_type": "execute_result"
    }
   ],
   "source": [
    "df['owner'].value_counts()"
   ]
  },
  {
   "cell_type": "code",
   "execution_count": 33,
   "metadata": {},
   "outputs": [
    {
     "data": {
      "text/plain": [
       "name\n",
       "Maruti Swift Dzire VDI                     69\n",
       "Maruti Alto 800 LXI                        59\n",
       "Maruti Alto LXi                            47\n",
       "Maruti Alto LX                             35\n",
       "Hyundai EON Era Plus                       35\n",
       "                                           ..\n",
       "Hyundai Verna Transform CRDi VGT SX ABS     1\n",
       "Maruti S-Presso VXI Plus                    1\n",
       "Toyota Etios Liva 1.2 VX                    1\n",
       "Toyota Yaris G                              1\n",
       "Hyundai i20 Magna 1.4 CRDi                  1\n",
       "Name: count, Length: 1491, dtype: int64"
      ]
     },
     "execution_count": 33,
     "metadata": {},
     "output_type": "execute_result"
    }
   ],
   "source": [
    "df['name'].value_counts()"
   ]
  },
  {
   "cell_type": "code",
   "execution_count": 34,
   "metadata": {},
   "outputs": [
    {
     "data": {
      "text/html": [
       "<div>\n",
       "<style scoped>\n",
       "    .dataframe tbody tr th:only-of-type {\n",
       "        vertical-align: middle;\n",
       "    }\n",
       "\n",
       "    .dataframe tbody tr th {\n",
       "        vertical-align: top;\n",
       "    }\n",
       "\n",
       "    .dataframe thead th {\n",
       "        text-align: right;\n",
       "    }\n",
       "</style>\n",
       "<table border=\"1\" class=\"dataframe\">\n",
       "  <thead>\n",
       "    <tr style=\"text-align: right;\">\n",
       "      <th></th>\n",
       "      <th>name</th>\n",
       "      <th>year</th>\n",
       "      <th>selling_price</th>\n",
       "      <th>km_driven</th>\n",
       "      <th>fuel</th>\n",
       "      <th>seller_type</th>\n",
       "      <th>transmission</th>\n",
       "      <th>owner</th>\n",
       "    </tr>\n",
       "  </thead>\n",
       "  <tbody>\n",
       "    <tr>\n",
       "      <th>0</th>\n",
       "      <td>Maruti 800 AC</td>\n",
       "      <td>2007</td>\n",
       "      <td>60000</td>\n",
       "      <td>70000</td>\n",
       "      <td>Petrol</td>\n",
       "      <td>Individual</td>\n",
       "      <td>Manual</td>\n",
       "      <td>First Owner</td>\n",
       "    </tr>\n",
       "    <tr>\n",
       "      <th>1</th>\n",
       "      <td>Maruti Wagon R LXI Minor</td>\n",
       "      <td>2007</td>\n",
       "      <td>135000</td>\n",
       "      <td>50000</td>\n",
       "      <td>Petrol</td>\n",
       "      <td>Individual</td>\n",
       "      <td>Manual</td>\n",
       "      <td>First Owner</td>\n",
       "    </tr>\n",
       "    <tr>\n",
       "      <th>2</th>\n",
       "      <td>Hyundai Verna 1.6 SX</td>\n",
       "      <td>2012</td>\n",
       "      <td>600000</td>\n",
       "      <td>100000</td>\n",
       "      <td>Diesel</td>\n",
       "      <td>Individual</td>\n",
       "      <td>Manual</td>\n",
       "      <td>First Owner</td>\n",
       "    </tr>\n",
       "    <tr>\n",
       "      <th>3</th>\n",
       "      <td>Datsun RediGO T Option</td>\n",
       "      <td>2017</td>\n",
       "      <td>250000</td>\n",
       "      <td>46000</td>\n",
       "      <td>Petrol</td>\n",
       "      <td>Individual</td>\n",
       "      <td>Manual</td>\n",
       "      <td>First Owner</td>\n",
       "    </tr>\n",
       "    <tr>\n",
       "      <th>4</th>\n",
       "      <td>Honda Amaze VX i-DTEC</td>\n",
       "      <td>2014</td>\n",
       "      <td>450000</td>\n",
       "      <td>141000</td>\n",
       "      <td>Diesel</td>\n",
       "      <td>Individual</td>\n",
       "      <td>Manual</td>\n",
       "      <td>Second Owner</td>\n",
       "    </tr>\n",
       "  </tbody>\n",
       "</table>\n",
       "</div>"
      ],
      "text/plain": [
       "                       name  year  selling_price  km_driven    fuel   \n",
       "0             Maruti 800 AC  2007          60000      70000  Petrol  \\\n",
       "1  Maruti Wagon R LXI Minor  2007         135000      50000  Petrol   \n",
       "2      Hyundai Verna 1.6 SX  2012         600000     100000  Diesel   \n",
       "3    Datsun RediGO T Option  2017         250000      46000  Petrol   \n",
       "4     Honda Amaze VX i-DTEC  2014         450000     141000  Diesel   \n",
       "\n",
       "  seller_type transmission         owner  \n",
       "0  Individual       Manual   First Owner  \n",
       "1  Individual       Manual   First Owner  \n",
       "2  Individual       Manual   First Owner  \n",
       "3  Individual       Manual   First Owner  \n",
       "4  Individual       Manual  Second Owner  "
      ]
     },
     "execution_count": 34,
     "metadata": {},
     "output_type": "execute_result"
    }
   ],
   "source": [
    "df.head()"
   ]
  },
  {
   "cell_type": "code",
   "execution_count": 36,
   "metadata": {},
   "outputs": [
    {
     "data": {
      "text/plain": [
       "year\n",
       "2017    466\n",
       "2015    421\n",
       "2012    415\n",
       "2013    386\n",
       "2014    367\n",
       "2018    366\n",
       "2016    357\n",
       "2011    271\n",
       "2010    234\n",
       "2019    195\n",
       "2009    193\n",
       "2008    145\n",
       "2007    134\n",
       "2006    110\n",
       "2005     85\n",
       "2020     48\n",
       "2004     42\n",
       "2003     23\n",
       "2002     21\n",
       "2001     20\n",
       "1998     12\n",
       "2000     12\n",
       "1999     10\n",
       "1997      3\n",
       "1996      2\n",
       "1995      1\n",
       "1992      1\n",
       "Name: count, dtype: int64"
      ]
     },
     "execution_count": 36,
     "metadata": {},
     "output_type": "execute_result"
    }
   ],
   "source": [
    "df['year'].value_counts()"
   ]
  },
  {
   "cell_type": "code",
   "execution_count": 40,
   "metadata": {},
   "outputs": [
    {
     "name": "stdout",
     "output_type": "stream",
     "text": [
      "Average price of petrol car\n"
     ]
    },
    {
     "data": {
      "text/plain": [
       "344840.1375412153"
      ]
     },
     "execution_count": 40,
     "metadata": {},
     "output_type": "execute_result"
    }
   ],
   "source": [
    "print(\"Average price of petrol car\")\n",
    "df[df['fuel']=='Petrol']['selling_price'].mean()"
   ]
  },
  {
   "cell_type": "code",
   "execution_count": 42,
   "metadata": {},
   "outputs": [
    {
     "name": "stdout",
     "output_type": "stream",
     "text": [
      "Average price of Diesel car\n"
     ]
    },
    {
     "data": {
      "text/plain": [
       "669094.2522062239"
      ]
     },
     "execution_count": 42,
     "metadata": {},
     "output_type": "execute_result"
    }
   ],
   "source": [
    "print(\"Average price of Diesel car\")\n",
    "df[df['fuel']=='Diesel']['selling_price'].mean()"
   ]
  },
  {
   "cell_type": "code",
   "execution_count": 45,
   "metadata": {},
   "outputs": [
    {
     "name": "stdout",
     "output_type": "stream",
     "text": [
      "Average price of LPG car\n"
     ]
    },
    {
     "data": {
      "text/plain": [
       "167826.04347826086"
      ]
     },
     "execution_count": 45,
     "metadata": {},
     "output_type": "execute_result"
    }
   ],
   "source": [
    "print(\"Average price of LPG car\")\n",
    "df[df['fuel']=='LPG']['selling_price'].mean()\n"
   ]
  },
  {
   "cell_type": "code",
   "execution_count": 46,
   "metadata": {},
   "outputs": [
    {
     "name": "stdout",
     "output_type": "stream",
     "text": [
      "Average price of CNG car\n"
     ]
    },
    {
     "data": {
      "text/plain": [
       "277174.925"
      ]
     },
     "execution_count": 46,
     "metadata": {},
     "output_type": "execute_result"
    }
   ],
   "source": [
    "print(\"Average price of CNG car\")\n",
    "df[df['fuel']=='CNG']['selling_price'].mean()"
   ]
  },
  {
   "cell_type": "code",
   "execution_count": 48,
   "metadata": {},
   "outputs": [
    {
     "data": {
      "text/plain": [
       "array(['First Owner', 'Second Owner', 'Fourth & Above Owner',\n",
       "       'Third Owner', 'Test Drive Car'], dtype=object)"
      ]
     },
     "execution_count": 48,
     "metadata": {},
     "output_type": "execute_result"
    }
   ],
   "source": [
    "df['owner'].unique()"
   ]
  },
  {
   "cell_type": "code",
   "execution_count": 49,
   "metadata": {},
   "outputs": [
    {
     "name": "stdout",
     "output_type": "stream",
     "text": [
      "Average price of First owner car\n"
     ]
    },
    {
     "data": {
      "text/plain": [
       "598636.9696327683"
      ]
     },
     "execution_count": 49,
     "metadata": {},
     "output_type": "execute_result"
    }
   ],
   "source": [
    "print(\"Average price of First owner car\")\n",
    "df[df['owner']=='First Owner']['selling_price'].mean()"
   ]
  },
  {
   "cell_type": "code",
   "execution_count": 50,
   "metadata": {},
   "outputs": [
    {
     "name": "stdout",
     "output_type": "stream",
     "text": [
      "Average price of Second owner car\n"
     ]
    },
    {
     "data": {
      "text/plain": [
       "343891.08860759495"
      ]
     },
     "execution_count": 50,
     "metadata": {},
     "output_type": "execute_result"
    }
   ],
   "source": [
    "print(\"Average price of Second owner car\")\n",
    "df[df['owner']=='Second Owner']['selling_price'].mean()"
   ]
  },
  {
   "cell_type": "code",
   "execution_count": 51,
   "metadata": {},
   "outputs": [
    {
     "name": "stdout",
     "output_type": "stream",
     "text": [
      "Average price of Third owner car\n"
     ]
    },
    {
     "data": {
      "text/plain": [
       "269474.0032894737"
      ]
     },
     "execution_count": 51,
     "metadata": {},
     "output_type": "execute_result"
    }
   ],
   "source": [
    "print(\"Average price of Third owner car\")\n",
    "df[df['owner']=='Third Owner']['selling_price'].mean()"
   ]
  },
  {
   "cell_type": "code",
   "execution_count": 52,
   "metadata": {},
   "outputs": [
    {
     "data": {
      "text/html": [
       "<div>\n",
       "<style scoped>\n",
       "    .dataframe tbody tr th:only-of-type {\n",
       "        vertical-align: middle;\n",
       "    }\n",
       "\n",
       "    .dataframe tbody tr th {\n",
       "        vertical-align: top;\n",
       "    }\n",
       "\n",
       "    .dataframe thead th {\n",
       "        text-align: right;\n",
       "    }\n",
       "</style>\n",
       "<table border=\"1\" class=\"dataframe\">\n",
       "  <thead>\n",
       "    <tr style=\"text-align: right;\">\n",
       "      <th></th>\n",
       "      <th>name</th>\n",
       "      <th>year</th>\n",
       "      <th>selling_price</th>\n",
       "      <th>km_driven</th>\n",
       "      <th>fuel</th>\n",
       "      <th>seller_type</th>\n",
       "      <th>transmission</th>\n",
       "      <th>owner</th>\n",
       "    </tr>\n",
       "  </thead>\n",
       "  <tbody>\n",
       "    <tr>\n",
       "      <th>0</th>\n",
       "      <td>Maruti 800 AC</td>\n",
       "      <td>2007</td>\n",
       "      <td>60000</td>\n",
       "      <td>70000</td>\n",
       "      <td>Petrol</td>\n",
       "      <td>Individual</td>\n",
       "      <td>Manual</td>\n",
       "      <td>First Owner</td>\n",
       "    </tr>\n",
       "    <tr>\n",
       "      <th>1</th>\n",
       "      <td>Maruti Wagon R LXI Minor</td>\n",
       "      <td>2007</td>\n",
       "      <td>135000</td>\n",
       "      <td>50000</td>\n",
       "      <td>Petrol</td>\n",
       "      <td>Individual</td>\n",
       "      <td>Manual</td>\n",
       "      <td>First Owner</td>\n",
       "    </tr>\n",
       "    <tr>\n",
       "      <th>2</th>\n",
       "      <td>Hyundai Verna 1.6 SX</td>\n",
       "      <td>2012</td>\n",
       "      <td>600000</td>\n",
       "      <td>100000</td>\n",
       "      <td>Diesel</td>\n",
       "      <td>Individual</td>\n",
       "      <td>Manual</td>\n",
       "      <td>First Owner</td>\n",
       "    </tr>\n",
       "    <tr>\n",
       "      <th>3</th>\n",
       "      <td>Datsun RediGO T Option</td>\n",
       "      <td>2017</td>\n",
       "      <td>250000</td>\n",
       "      <td>46000</td>\n",
       "      <td>Petrol</td>\n",
       "      <td>Individual</td>\n",
       "      <td>Manual</td>\n",
       "      <td>First Owner</td>\n",
       "    </tr>\n",
       "    <tr>\n",
       "      <th>4</th>\n",
       "      <td>Honda Amaze VX i-DTEC</td>\n",
       "      <td>2014</td>\n",
       "      <td>450000</td>\n",
       "      <td>141000</td>\n",
       "      <td>Diesel</td>\n",
       "      <td>Individual</td>\n",
       "      <td>Manual</td>\n",
       "      <td>Second Owner</td>\n",
       "    </tr>\n",
       "  </tbody>\n",
       "</table>\n",
       "</div>"
      ],
      "text/plain": [
       "                       name  year  selling_price  km_driven    fuel   \n",
       "0             Maruti 800 AC  2007          60000      70000  Petrol  \\\n",
       "1  Maruti Wagon R LXI Minor  2007         135000      50000  Petrol   \n",
       "2      Hyundai Verna 1.6 SX  2012         600000     100000  Diesel   \n",
       "3    Datsun RediGO T Option  2017         250000      46000  Petrol   \n",
       "4     Honda Amaze VX i-DTEC  2014         450000     141000  Diesel   \n",
       "\n",
       "  seller_type transmission         owner  \n",
       "0  Individual       Manual   First Owner  \n",
       "1  Individual       Manual   First Owner  \n",
       "2  Individual       Manual   First Owner  \n",
       "3  Individual       Manual   First Owner  \n",
       "4  Individual       Manual  Second Owner  "
      ]
     },
     "execution_count": 52,
     "metadata": {},
     "output_type": "execute_result"
    }
   ],
   "source": [
    "df.head()"
   ]
  },
  {
   "cell_type": "code",
   "execution_count": 53,
   "metadata": {},
   "outputs": [
    {
     "name": "stdout",
     "output_type": "stream",
     "text": [
      "Average price of Automatic car\n"
     ]
    },
    {
     "data": {
      "text/plain": [
       "1408154.0"
      ]
     },
     "execution_count": 53,
     "metadata": {},
     "output_type": "execute_result"
    }
   ],
   "source": [
    "print(\"Average price of Automatic car\")\n",
    "df[df['transmission']=='Automatic']['selling_price'].mean()"
   ]
  },
  {
   "cell_type": "code",
   "execution_count": 54,
   "metadata": {},
   "outputs": [
    {
     "name": "stdout",
     "output_type": "stream",
     "text": [
      "Average price of Manual car\n"
     ]
    },
    {
     "data": {
      "text/plain": [
       "400066.6857656732"
      ]
     },
     "execution_count": 54,
     "metadata": {},
     "output_type": "execute_result"
    }
   ],
   "source": [
    "print(\"Average price of Manual car\")\n",
    "df[df['transmission']=='Manual']['selling_price'].mean()"
   ]
  },
  {
   "cell_type": "code",
   "execution_count": 55,
   "metadata": {},
   "outputs": [],
   "source": [
    "import matplotlib.pyplot as plt\n",
    "import seaborn as sns"
   ]
  },
  {
   "cell_type": "code",
   "execution_count": 56,
   "metadata": {},
   "outputs": [
    {
     "data": {
      "text/plain": [
       "Text(0, 0.5, 'km_driven')"
      ]
     },
     "execution_count": 56,
     "metadata": {},
     "output_type": "execute_result"
    },
    {
     "data": {
      "image/png": "[encoded data removed]",
      "text/plain": [
       "<Figure size 640x480 with 1 Axes>"
      ]
     },
     "metadata": {},
     "output_type": "display_data"
    }
   ],
   "source": [
    "plt.scatter(df['selling_price'], df['km_driven'])\n",
    "\n",
    "plt.xlabel(\"selling_price\")\n",
    "plt.ylabel(\"km_driven\")"
   ]
  },
  {
   "cell_type": "code",
   "execution_count": 58,
   "metadata": {},
   "outputs": [
    {
     "data": {
      "text/html": [
       "<div>\n",
       "<style scoped>\n",
       "    .dataframe tbody tr th:only-of-type {\n",
       "        vertical-align: middle;\n",
       "    }\n",
       "\n",
       "    .dataframe tbody tr th {\n",
       "        vertical-align: top;\n",
       "    }\n",
       "\n",
       "    .dataframe thead th {\n",
       "        text-align: right;\n",
       "    }\n",
       "</style>\n",
       "<table border=\"1\" class=\"dataframe\">\n",
       "  <thead>\n",
       "    <tr style=\"text-align: right;\">\n",
       "      <th></th>\n",
       "      <th>name</th>\n",
       "      <th>year</th>\n",
       "      <th>selling_price</th>\n",
       "      <th>km_driven</th>\n",
       "      <th>fuel</th>\n",
       "      <th>seller_type</th>\n",
       "      <th>transmission</th>\n",
       "      <th>owner</th>\n",
       "    </tr>\n",
       "  </thead>\n",
       "  <tbody>\n",
       "    <tr>\n",
       "      <th>0</th>\n",
       "      <td>Maruti 800 AC</td>\n",
       "      <td>2007</td>\n",
       "      <td>60000</td>\n",
       "      <td>70000</td>\n",
       "      <td>Petrol</td>\n",
       "      <td>Individual</td>\n",
       "      <td>Manual</td>\n",
       "      <td>First Owner</td>\n",
       "    </tr>\n",
       "    <tr>\n",
       "      <th>1</th>\n",
       "      <td>Maruti Wagon R LXI Minor</td>\n",
       "      <td>2007</td>\n",
       "      <td>135000</td>\n",
       "      <td>50000</td>\n",
       "      <td>Petrol</td>\n",
       "      <td>Individual</td>\n",
       "      <td>Manual</td>\n",
       "      <td>First Owner</td>\n",
       "    </tr>\n",
       "    <tr>\n",
       "      <th>2</th>\n",
       "      <td>Hyundai Verna 1.6 SX</td>\n",
       "      <td>2012</td>\n",
       "      <td>600000</td>\n",
       "      <td>100000</td>\n",
       "      <td>Diesel</td>\n",
       "      <td>Individual</td>\n",
       "      <td>Manual</td>\n",
       "      <td>First Owner</td>\n",
       "    </tr>\n",
       "    <tr>\n",
       "      <th>3</th>\n",
       "      <td>Datsun RediGO T Option</td>\n",
       "      <td>2017</td>\n",
       "      <td>250000</td>\n",
       "      <td>46000</td>\n",
       "      <td>Petrol</td>\n",
       "      <td>Individual</td>\n",
       "      <td>Manual</td>\n",
       "      <td>First Owner</td>\n",
       "    </tr>\n",
       "    <tr>\n",
       "      <th>4</th>\n",
       "      <td>Honda Amaze VX i-DTEC</td>\n",
       "      <td>2014</td>\n",
       "      <td>450000</td>\n",
       "      <td>141000</td>\n",
       "      <td>Diesel</td>\n",
       "      <td>Individual</td>\n",
       "      <td>Manual</td>\n",
       "      <td>Second Owner</td>\n",
       "    </tr>\n",
       "  </tbody>\n",
       "</table>\n",
       "</div>"
      ],
      "text/plain": [
       "                       name  year  selling_price  km_driven    fuel   \n",
       "0             Maruti 800 AC  2007          60000      70000  Petrol  \\\n",
       "1  Maruti Wagon R LXI Minor  2007         135000      50000  Petrol   \n",
       "2      Hyundai Verna 1.6 SX  2012         600000     100000  Diesel   \n",
       "3    Datsun RediGO T Option  2017         250000      46000  Petrol   \n",
       "4     Honda Amaze VX i-DTEC  2014         450000     141000  Diesel   \n",
       "\n",
       "  seller_type transmission         owner  \n",
       "0  Individual       Manual   First Owner  \n",
       "1  Individual       Manual   First Owner  \n",
       "2  Individual       Manual   First Owner  \n",
       "3  Individual       Manual   First Owner  \n",
       "4  Individual       Manual  Second Owner  "
      ]
     },
     "execution_count": 58,
     "metadata": {},
     "output_type": "execute_result"
    }
   ],
   "source": [
    "df.head()"
   ]
  },
  {
   "cell_type": "code",
   "execution_count": 61,
   "metadata": {},
   "outputs": [
    {
     "data": {
      "text/plain": [
       "<Axes: xlabel='selling_price', ylabel='fuel'>"
      ]
     },
     "execution_count": 61,
     "metadata": {},
     "output_type": "execute_result"
    },
    {
     "data": {
      "image/png": "[encoded data removed]",
      "text/plain": [
       "<Figure size 640x480 with 1 Axes>"
      ]
     },
     "metadata": {},
     "output_type": "display_data"
    }
   ],
   "source": [
    "sns.barplot(data=df, x='selling_price', y='fuel')"
   ]
  },
  {
   "cell_type": "code",
   "execution_count": 62,
   "metadata": {},
   "outputs": [
    {
     "data": {
      "text/plain": [
       "<Axes: xlabel='selling_price', ylabel='owner'>"
      ]
     },
     "execution_count": 62,
     "metadata": {},
     "output_type": "execute_result"
    },
    {
     "data": {
      "image/png": "[encoded data removed]",
      "text/plain": [
       "<Figure size 640x480 with 1 Axes>"
      ]
     },
     "metadata": {},
     "output_type": "display_data"
    }
   ],
   "source": [
    "sns.barplot(data=df, x='selling_price', y='owner')"
   ]
  },
  {
   "cell_type": "code",
   "execution_count": 64,
   "metadata": {},
   "outputs": [
    {
     "data": {
      "text/plain": [
       "<Axes: xlabel='selling_price', ylabel='transmission'>"
      ]
     },
     "execution_count": 64,
     "metadata": {},
     "output_type": "execute_result"
    },
    {
     "data": {
      "image/png": "[encoded data removed]",
      "text/plain": [
       "<Figure size 640x480 with 1 Axes>"
      ]
     },
     "metadata": {},
     "output_type": "display_data"
    }
   ],
   "source": [
    "sns.barplot(data=df, x='selling_price', y='transmission')"
   ]
  },
  {
   "cell_type": "code",
   "execution_count": 65,
   "metadata": {},
   "outputs": [
    {
     "data": {
      "text/plain": [
       "<Axes: xlabel='selling_price', ylabel='seller_type'>"
      ]
     },
     "execution_count": 65,
     "metadata": {},
     "output_type": "execute_result"
    },
    {
     "data": {
      "image/png": "[encoded data removed]",
      "text/plain": [
       "<Figure size 640x480 with 1 Axes>"
      ]
     },
     "metadata": {},
     "output_type": "display_data"
    }
   ],
   "source": [
    "sns.barplot(data=df, x='selling_price', y='seller_type')"
   ]
  },
  {
   "cell_type": "code",
   "execution_count": 66,
   "metadata": {},
   "outputs": [
    {
     "data": {
      "text/html": [
       "<div>\n",
       "<style scoped>\n",
       "    .dataframe tbody tr th:only-of-type {\n",
       "        vertical-align: middle;\n",
       "    }\n",
       "\n",
       "    .dataframe tbody tr th {\n",
       "        vertical-align: top;\n",
       "    }\n",
       "\n",
       "    .dataframe thead th {\n",
       "        text-align: right;\n",
       "    }\n",
       "</style>\n",
       "<table border=\"1\" class=\"dataframe\">\n",
       "  <thead>\n",
       "    <tr style=\"text-align: right;\">\n",
       "      <th></th>\n",
       "      <th>name</th>\n",
       "      <th>year</th>\n",
       "      <th>selling_price</th>\n",
       "      <th>km_driven</th>\n",
       "      <th>fuel</th>\n",
       "      <th>seller_type</th>\n",
       "      <th>transmission</th>\n",
       "      <th>owner</th>\n",
       "    </tr>\n",
       "  </thead>\n",
       "  <tbody>\n",
       "    <tr>\n",
       "      <th>0</th>\n",
       "      <td>Maruti 800 AC</td>\n",
       "      <td>2007</td>\n",
       "      <td>60000</td>\n",
       "      <td>70000</td>\n",
       "      <td>Petrol</td>\n",
       "      <td>Individual</td>\n",
       "      <td>Manual</td>\n",
       "      <td>First Owner</td>\n",
       "    </tr>\n",
       "    <tr>\n",
       "      <th>1</th>\n",
       "      <td>Maruti Wagon R LXI Minor</td>\n",
       "      <td>2007</td>\n",
       "      <td>135000</td>\n",
       "      <td>50000</td>\n",
       "      <td>Petrol</td>\n",
       "      <td>Individual</td>\n",
       "      <td>Manual</td>\n",
       "      <td>First Owner</td>\n",
       "    </tr>\n",
       "    <tr>\n",
       "      <th>2</th>\n",
       "      <td>Hyundai Verna 1.6 SX</td>\n",
       "      <td>2012</td>\n",
       "      <td>600000</td>\n",
       "      <td>100000</td>\n",
       "      <td>Diesel</td>\n",
       "      <td>Individual</td>\n",
       "      <td>Manual</td>\n",
       "      <td>First Owner</td>\n",
       "    </tr>\n",
       "    <tr>\n",
       "      <th>3</th>\n",
       "      <td>Datsun RediGO T Option</td>\n",
       "      <td>2017</td>\n",
       "      <td>250000</td>\n",
       "      <td>46000</td>\n",
       "      <td>Petrol</td>\n",
       "      <td>Individual</td>\n",
       "      <td>Manual</td>\n",
       "      <td>First Owner</td>\n",
       "    </tr>\n",
       "    <tr>\n",
       "      <th>4</th>\n",
       "      <td>Honda Amaze VX i-DTEC</td>\n",
       "      <td>2014</td>\n",
       "      <td>450000</td>\n",
       "      <td>141000</td>\n",
       "      <td>Diesel</td>\n",
       "      <td>Individual</td>\n",
       "      <td>Manual</td>\n",
       "      <td>Second Owner</td>\n",
       "    </tr>\n",
       "  </tbody>\n",
       "</table>\n",
       "</div>"
      ],
      "text/plain": [
       "                       name  year  selling_price  km_driven    fuel   \n",
       "0             Maruti 800 AC  2007          60000      70000  Petrol  \\\n",
       "1  Maruti Wagon R LXI Minor  2007         135000      50000  Petrol   \n",
       "2      Hyundai Verna 1.6 SX  2012         600000     100000  Diesel   \n",
       "3    Datsun RediGO T Option  2017         250000      46000  Petrol   \n",
       "4     Honda Amaze VX i-DTEC  2014         450000     141000  Diesel   \n",
       "\n",
       "  seller_type transmission         owner  \n",
       "0  Individual       Manual   First Owner  \n",
       "1  Individual       Manual   First Owner  \n",
       "2  Individual       Manual   First Owner  \n",
       "3  Individual       Manual   First Owner  \n",
       "4  Individual       Manual  Second Owner  "
      ]
     },
     "execution_count": 66,
     "metadata": {},
     "output_type": "execute_result"
    }
   ],
   "source": [
    "df.head()"
   ]
  },
  {
   "cell_type": "code",
   "execution_count": 94,
   "metadata": {},
   "outputs": [],
   "source": [
    "year_count = df['year'].value_counts()"
   ]
  },
  {
   "cell_type": "code",
   "execution_count": 95,
   "metadata": {},
   "outputs": [],
   "source": [
    "sorted_year_counts = year_count.sort_values(ascending=False)"
   ]
  },
  {
   "cell_type": "code",
   "execution_count": 100,
   "metadata": {},
   "outputs": [
    {
     "data": {
      "image/png": "[encoded data removed]",
      "text/plain": [
       "<Figure size 640x480 with 1 Axes>"
      ]
     },
     "metadata": {},
     "output_type": "display_data"
    }
   ],
   "source": [
    "\n",
    "sns.countplot(data=df,x=\"year\",palette=\"icefire\")\n",
    "plt.xticks(rotation=90)\n",
    "plt.xlabel(\"YEAR\",fontsize=15,color=\"RED\")\n",
    "plt.ylabel(\"COUNT\",fontsize=15,color=\"RED\")\n",
    "plt.title(\"YEAR COUNT\",fontsize=25,color=\"RED\")\n",
    "plt.show()"
   ]
  },
  {
   "cell_type": "code",
   "execution_count": 101,
   "metadata": {},
   "outputs": [
    {
     "data": {
      "text/plain": [
       "0     Maruti\n",
       "1     Maruti\n",
       "2    Hyundai\n",
       "3     Datsun\n",
       "4      Honda\n",
       "Name: name_2, dtype: object"
      ]
     },
     "execution_count": 101,
     "metadata": {},
     "output_type": "execute_result"
    }
   ],
   "source": [
    "df[\"name_2\"] = df.name.apply(lambda x : ' '.join(x.split(' ')[:1]))\n",
    "df['name_2'].head()"
   ]
  },
  {
   "cell_type": "code",
   "execution_count": 108,
   "metadata": {},
   "outputs": [
    {
     "data": {
      "text/plain": [
       "name_2\n",
       "Maruti           1280\n",
       "Hyundai           821\n",
       "Mahindra          365\n",
       "Tata              361\n",
       "Honda             252\n",
       "Ford              238\n",
       "Toyota            206\n",
       "Chevrolet         188\n",
       "Renault           146\n",
       "Volkswagen        107\n",
       "Skoda              68\n",
       "Nissan             64\n",
       "Audi               60\n",
       "BMW                39\n",
       "Fiat               37\n",
       "Datsun             37\n",
       "Mercedes-Benz      35\n",
       "Jaguar              6\n",
       "Mitsubishi          6\n",
       "Land                5\n",
       "Volvo               4\n",
       "Ambassador          4\n",
       "Jeep                3\n",
       "MG                  2\n",
       "OpelCorsa           2\n",
       "Daewoo              1\n",
       "Force               1\n",
       "Isuzu               1\n",
       "Kia                 1\n",
       "Name: count, dtype: int64"
      ]
     },
     "execution_count": 108,
     "metadata": {},
     "output_type": "execute_result"
    }
   ],
   "source": [
    "df['name_2'].value_counts()"
   ]
  },
  {
   "cell_type": "code",
   "execution_count": 104,
   "metadata": {},
   "outputs": [
    {
     "data": {
      "image/png": "[encoded data removed]",
      "text/plain": [
       "<Figure size 640x480 with 1 Axes>"
      ]
     },
     "metadata": {},
     "output_type": "display_data"
    }
   ],
   "source": [
    "sns.countplot(data=df,x=\"name_2\",palette=\"CMRmap\")\n",
    "plt.xticks(rotation=90)\n",
    "plt.xlabel(\"Car name\",fontsize=15,color=\"black\")\n",
    "plt.ylabel(\"Car count\",fontsize=15,color=\"black\")\n",
    "plt.title(\"Cars count\",fontsize=25)\n",
    "plt.show()"
   ]
  },
  {
   "cell_type": "code",
   "execution_count": 106,
   "metadata": {},
   "outputs": [
    {
     "data": {
      "image/png": "[encoded data removed]",
      "text/plain": [
       "<Figure size 640x480 with 1 Axes>"
      ]
     },
     "metadata": {},
     "output_type": "display_data"
    }
   ],
   "source": [
    "labels = df[\"name_2\"][:10].value_counts().index\n",
    "sizes = df[\"name_2\"][:10].value_counts()\n",
    "\n",
    "plt.pie(sizes, labels=labels, rotatelabels=False, autopct='%1.1f%%',shadow=True, startangle=45,textprops={'fontsize':20})\n",
    "plt.title('Car name',color = 'red',fontsize = 30)\n",
    "plt.show()"
   ]
  },
  {
   "cell_type": "code",
   "execution_count": 109,
   "metadata": {},
   "outputs": [
    {
     "data": {
      "text/html": [
       "<div>\n",
       "<style scoped>\n",
       "    .dataframe tbody tr th:only-of-type {\n",
       "        vertical-align: middle;\n",
       "    }\n",
       "\n",
       "    .dataframe tbody tr th {\n",
       "        vertical-align: top;\n",
       "    }\n",
       "\n",
       "    .dataframe thead th {\n",
       "        text-align: right;\n",
       "    }\n",
       "</style>\n",
       "<table border=\"1\" class=\"dataframe\">\n",
       "  <thead>\n",
       "    <tr style=\"text-align: right;\">\n",
       "      <th></th>\n",
       "      <th>name</th>\n",
       "      <th>year</th>\n",
       "      <th>selling_price</th>\n",
       "      <th>km_driven</th>\n",
       "      <th>fuel</th>\n",
       "      <th>seller_type</th>\n",
       "      <th>transmission</th>\n",
       "      <th>owner</th>\n",
       "      <th>name_2</th>\n",
       "    </tr>\n",
       "  </thead>\n",
       "  <tbody>\n",
       "    <tr>\n",
       "      <th>0</th>\n",
       "      <td>Maruti 800 AC</td>\n",
       "      <td>2007</td>\n",
       "      <td>60000</td>\n",
       "      <td>70000</td>\n",
       "      <td>Petrol</td>\n",
       "      <td>Individual</td>\n",
       "      <td>Manual</td>\n",
       "      <td>First Owner</td>\n",
       "      <td>Maruti</td>\n",
       "    </tr>\n",
       "    <tr>\n",
       "      <th>1</th>\n",
       "      <td>Maruti Wagon R LXI Minor</td>\n",
       "      <td>2007</td>\n",
       "      <td>135000</td>\n",
       "      <td>50000</td>\n",
       "      <td>Petrol</td>\n",
       "      <td>Individual</td>\n",
       "      <td>Manual</td>\n",
       "      <td>First Owner</td>\n",
       "      <td>Maruti</td>\n",
       "    </tr>\n",
       "    <tr>\n",
       "      <th>2</th>\n",
       "      <td>Hyundai Verna 1.6 SX</td>\n",
       "      <td>2012</td>\n",
       "      <td>600000</td>\n",
       "      <td>100000</td>\n",
       "      <td>Diesel</td>\n",
       "      <td>Individual</td>\n",
       "      <td>Manual</td>\n",
       "      <td>First Owner</td>\n",
       "      <td>Hyundai</td>\n",
       "    </tr>\n",
       "    <tr>\n",
       "      <th>3</th>\n",
       "      <td>Datsun RediGO T Option</td>\n",
       "      <td>2017</td>\n",
       "      <td>250000</td>\n",
       "      <td>46000</td>\n",
       "      <td>Petrol</td>\n",
       "      <td>Individual</td>\n",
       "      <td>Manual</td>\n",
       "      <td>First Owner</td>\n",
       "      <td>Datsun</td>\n",
       "    </tr>\n",
       "    <tr>\n",
       "      <th>4</th>\n",
       "      <td>Honda Amaze VX i-DTEC</td>\n",
       "      <td>2014</td>\n",
       "      <td>450000</td>\n",
       "      <td>141000</td>\n",
       "      <td>Diesel</td>\n",
       "      <td>Individual</td>\n",
       "      <td>Manual</td>\n",
       "      <td>Second Owner</td>\n",
       "      <td>Honda</td>\n",
       "    </tr>\n",
       "  </tbody>\n",
       "</table>\n",
       "</div>"
      ],
      "text/plain": [
       "                       name  year  selling_price  km_driven    fuel   \n",
       "0             Maruti 800 AC  2007          60000      70000  Petrol  \\\n",
       "1  Maruti Wagon R LXI Minor  2007         135000      50000  Petrol   \n",
       "2      Hyundai Verna 1.6 SX  2012         600000     100000  Diesel   \n",
       "3    Datsun RediGO T Option  2017         250000      46000  Petrol   \n",
       "4     Honda Amaze VX i-DTEC  2014         450000     141000  Diesel   \n",
       "\n",
       "  seller_type transmission         owner   name_2  \n",
       "0  Individual       Manual   First Owner   Maruti  \n",
       "1  Individual       Manual   First Owner   Maruti  \n",
       "2  Individual       Manual   First Owner  Hyundai  \n",
       "3  Individual       Manual   First Owner   Datsun  \n",
       "4  Individual       Manual  Second Owner    Honda  "
      ]
     },
     "execution_count": 109,
     "metadata": {},
     "output_type": "execute_result"
    }
   ],
   "source": [
    "df.head()"
   ]
  },
  {
   "cell_type": "code",
   "execution_count": 118,
   "metadata": {},
   "outputs": [
    {
     "data": {
      "image/png": "[encoded data removed]",
      "text/plain": [
       "<Figure size 640x480 with 2 Axes>"
      ]
     },
     "metadata": {},
     "output_type": "display_data"
    }
   ],
   "source": [
    "ax = sns.heatmap(df.iloc[:,1:4].corr(), annot=True,annot_kws={'fontsize':15})"
   ]
  },
  {
   "cell_type": "code",
   "execution_count": 119,
   "metadata": {},
   "outputs": [
    {
     "data": {
      "image/png": "[encoded data removed]",
      "text/plain": [
       "<Figure size 2000x800 with 1 Axes>"
      ]
     },
     "metadata": {},
     "output_type": "display_data"
    }
   ],
   "source": [
    "f, ax = plt.subplots(figsize=(20,8))\n",
    "sns.boxplot(x=df[\"name_2\"].values, y = df[\"km_driven\"].values,palette=\"twilight\",ax=ax)\n",
    "plt.xticks(rotation=90)\n",
    "plt.show()"
   ]
  },
  {
   "cell_type": "code",
   "execution_count": 121,
   "metadata": {},
   "outputs": [],
   "source": [
    "mydata = pd.get_dummies(df,columns=['fuel','seller_type','transmission','owner'],dtype=int,drop_first=True)"
   ]
  },
  {
   "cell_type": "code",
   "execution_count": 123,
   "metadata": {},
   "outputs": [],
   "source": [
    "mydata = mydata.drop(columns={'name','name_2'})"
   ]
  },
  {
   "cell_type": "code",
   "execution_count": 125,
   "metadata": {},
   "outputs": [
    {
     "data": {
      "text/html": [
       "<div>\n",
       "<style scoped>\n",
       "    .dataframe tbody tr th:only-of-type {\n",
       "        vertical-align: middle;\n",
       "    }\n",
       "\n",
       "    .dataframe tbody tr th {\n",
       "        vertical-align: top;\n",
       "    }\n",
       "\n",
       "    .dataframe thead th {\n",
       "        text-align: right;\n",
       "    }\n",
       "</style>\n",
       "<table border=\"1\" class=\"dataframe\">\n",
       "  <thead>\n",
       "    <tr style=\"text-align: right;\">\n",
       "      <th></th>\n",
       "      <th>year</th>\n",
       "      <th>selling_price</th>\n",
       "      <th>km_driven</th>\n",
       "      <th>fuel_Diesel</th>\n",
       "      <th>fuel_Electric</th>\n",
       "      <th>fuel_LPG</th>\n",
       "      <th>fuel_Petrol</th>\n",
       "      <th>seller_type_Individual</th>\n",
       "      <th>seller_type_Trustmark Dealer</th>\n",
       "      <th>transmission_Manual</th>\n",
       "      <th>owner_Fourth &amp; Above Owner</th>\n",
       "      <th>owner_Second Owner</th>\n",
       "      <th>owner_Test Drive Car</th>\n",
       "      <th>owner_Third Owner</th>\n",
       "    </tr>\n",
       "  </thead>\n",
       "  <tbody>\n",
       "    <tr>\n",
       "      <th>year</th>\n",
       "      <td>1.000000</td>\n",
       "      <td>0.413922</td>\n",
       "      <td>-0.419688</td>\n",
       "      <td>0.121424</td>\n",
       "      <td>-0.025540</td>\n",
       "      <td>-0.051266</td>\n",
       "      <td>-0.114908</td>\n",
       "      <td>-0.173703</td>\n",
       "      <td>0.100225</td>\n",
       "      <td>-0.143800</td>\n",
       "      <td>-0.186361</td>\n",
       "      <td>-0.292349</td>\n",
       "      <td>0.095795</td>\n",
       "      <td>-0.244308</td>\n",
       "    </tr>\n",
       "    <tr>\n",
       "      <th>selling_price</th>\n",
       "      <td>0.413922</td>\n",
       "      <td>1.000000</td>\n",
       "      <td>-0.192289</td>\n",
       "      <td>0.282947</td>\n",
       "      <td>-0.005095</td>\n",
       "      <td>-0.042434</td>\n",
       "      <td>-0.269453</td>\n",
       "      <td>-0.236798</td>\n",
       "      <td>0.110176</td>\n",
       "      <td>-0.530205</td>\n",
       "      <td>-0.078725</td>\n",
       "      <td>-0.161986</td>\n",
       "      <td>0.048799</td>\n",
       "      <td>-0.111326</td>\n",
       "    </tr>\n",
       "    <tr>\n",
       "      <th>km_driven</th>\n",
       "      <td>-0.419688</td>\n",
       "      <td>-0.192289</td>\n",
       "      <td>1.000000</td>\n",
       "      <td>0.285396</td>\n",
       "      <td>-0.001372</td>\n",
       "      <td>0.036652</td>\n",
       "      <td>-0.291139</td>\n",
       "      <td>0.182663</td>\n",
       "      <td>-0.089858</td>\n",
       "      <td>0.120226</td>\n",
       "      <td>0.097349</td>\n",
       "      <td>0.195203</td>\n",
       "      <td>-0.083445</td>\n",
       "      <td>0.194713</td>\n",
       "    </tr>\n",
       "    <tr>\n",
       "      <th>fuel_Diesel</th>\n",
       "      <td>0.121424</td>\n",
       "      <td>0.282947</td>\n",
       "      <td>0.285396</td>\n",
       "      <td>1.000000</td>\n",
       "      <td>-0.015063</td>\n",
       "      <td>-0.072422</td>\n",
       "      <td>-0.970934</td>\n",
       "      <td>-0.035314</td>\n",
       "      <td>-0.007911</td>\n",
       "      <td>-0.048098</td>\n",
       "      <td>-0.021054</td>\n",
       "      <td>0.003524</td>\n",
       "      <td>-0.010575</td>\n",
       "      <td>0.009373</td>\n",
       "    </tr>\n",
       "    <tr>\n",
       "      <th>fuel_Electric</th>\n",
       "      <td>-0.025540</td>\n",
       "      <td>-0.005095</td>\n",
       "      <td>-0.001372</td>\n",
       "      <td>-0.015063</td>\n",
       "      <td>1.000000</td>\n",
       "      <td>-0.001108</td>\n",
       "      <td>-0.014856</td>\n",
       "      <td>-0.026118</td>\n",
       "      <td>-0.002355</td>\n",
       "      <td>-0.044746</td>\n",
       "      <td>-0.002094</td>\n",
       "      <td>0.025960</td>\n",
       "      <td>-0.000952</td>\n",
       "      <td>-0.004166</td>\n",
       "    </tr>\n",
       "    <tr>\n",
       "      <th>fuel_LPG</th>\n",
       "      <td>-0.051266</td>\n",
       "      <td>-0.042434</td>\n",
       "      <td>0.036652</td>\n",
       "      <td>-0.072422</td>\n",
       "      <td>-0.001108</td>\n",
       "      <td>1.000000</td>\n",
       "      <td>-0.071427</td>\n",
       "      <td>0.035122</td>\n",
       "      <td>-0.011324</td>\n",
       "      <td>0.024764</td>\n",
       "      <td>0.013384</td>\n",
       "      <td>0.030141</td>\n",
       "      <td>-0.004577</td>\n",
       "      <td>0.004836</td>\n",
       "    </tr>\n",
       "    <tr>\n",
       "      <th>fuel_Petrol</th>\n",
       "      <td>-0.114908</td>\n",
       "      <td>-0.269453</td>\n",
       "      <td>-0.291139</td>\n",
       "      <td>-0.970934</td>\n",
       "      <td>-0.014856</td>\n",
       "      <td>-0.071427</td>\n",
       "      <td>1.000000</td>\n",
       "      <td>0.029845</td>\n",
       "      <td>0.012489</td>\n",
       "      <td>0.039614</td>\n",
       "      <td>0.011502</td>\n",
       "      <td>-0.012717</td>\n",
       "      <td>0.012427</td>\n",
       "      <td>-0.008502</td>\n",
       "    </tr>\n",
       "    <tr>\n",
       "      <th>seller_type_Individual</th>\n",
       "      <td>-0.173703</td>\n",
       "      <td>-0.236798</td>\n",
       "      <td>0.182663</td>\n",
       "      <td>-0.035314</td>\n",
       "      <td>-0.026118</td>\n",
       "      <td>0.035122</td>\n",
       "      <td>0.029845</td>\n",
       "      <td>1.000000</td>\n",
       "      <td>-0.266904</td>\n",
       "      <td>0.214163</td>\n",
       "      <td>0.072322</td>\n",
       "      <td>0.186573</td>\n",
       "      <td>-0.107886</td>\n",
       "      <td>0.140823</td>\n",
       "    </tr>\n",
       "    <tr>\n",
       "      <th>seller_type_Trustmark Dealer</th>\n",
       "      <td>0.100225</td>\n",
       "      <td>0.110176</td>\n",
       "      <td>-0.089858</td>\n",
       "      <td>-0.007911</td>\n",
       "      <td>-0.002355</td>\n",
       "      <td>-0.011324</td>\n",
       "      <td>0.012489</td>\n",
       "      <td>-0.266904</td>\n",
       "      <td>1.000000</td>\n",
       "      <td>-0.042346</td>\n",
       "      <td>-0.021395</td>\n",
       "      <td>-0.076764</td>\n",
       "      <td>-0.009729</td>\n",
       "      <td>-0.042578</td>\n",
       "    </tr>\n",
       "    <tr>\n",
       "      <th>transmission_Manual</th>\n",
       "      <td>-0.143800</td>\n",
       "      <td>-0.530205</td>\n",
       "      <td>0.120226</td>\n",
       "      <td>-0.048098</td>\n",
       "      <td>-0.044746</td>\n",
       "      <td>0.024764</td>\n",
       "      <td>0.039614</td>\n",
       "      <td>0.214163</td>\n",
       "      <td>-0.042346</td>\n",
       "      <td>1.000000</td>\n",
       "      <td>0.035597</td>\n",
       "      <td>0.068068</td>\n",
       "      <td>0.009152</td>\n",
       "      <td>0.030802</td>\n",
       "    </tr>\n",
       "    <tr>\n",
       "      <th>owner_Fourth &amp; Above Owner</th>\n",
       "      <td>-0.186361</td>\n",
       "      <td>-0.078725</td>\n",
       "      <td>0.097349</td>\n",
       "      <td>-0.021054</td>\n",
       "      <td>-0.002094</td>\n",
       "      <td>0.013384</td>\n",
       "      <td>0.011502</td>\n",
       "      <td>0.072322</td>\n",
       "      <td>-0.021395</td>\n",
       "      <td>0.035597</td>\n",
       "      <td>1.000000</td>\n",
       "      <td>-0.080648</td>\n",
       "      <td>-0.008648</td>\n",
       "      <td>-0.037849</td>\n",
       "    </tr>\n",
       "    <tr>\n",
       "      <th>owner_Second Owner</th>\n",
       "      <td>-0.292349</td>\n",
       "      <td>-0.161986</td>\n",
       "      <td>0.195203</td>\n",
       "      <td>0.003524</td>\n",
       "      <td>0.025960</td>\n",
       "      <td>0.030141</td>\n",
       "      <td>-0.012717</td>\n",
       "      <td>0.186573</td>\n",
       "      <td>-0.076764</td>\n",
       "      <td>0.068068</td>\n",
       "      <td>-0.080648</td>\n",
       "      <td>1.000000</td>\n",
       "      <td>-0.036672</td>\n",
       "      <td>-0.160498</td>\n",
       "    </tr>\n",
       "    <tr>\n",
       "      <th>owner_Test Drive Car</th>\n",
       "      <td>0.095795</td>\n",
       "      <td>0.048799</td>\n",
       "      <td>-0.083445</td>\n",
       "      <td>-0.010575</td>\n",
       "      <td>-0.000952</td>\n",
       "      <td>-0.004577</td>\n",
       "      <td>0.012427</td>\n",
       "      <td>-0.107886</td>\n",
       "      <td>-0.009729</td>\n",
       "      <td>0.009152</td>\n",
       "      <td>-0.008648</td>\n",
       "      <td>-0.036672</td>\n",
       "      <td>1.000000</td>\n",
       "      <td>-0.017210</td>\n",
       "    </tr>\n",
       "    <tr>\n",
       "      <th>owner_Third Owner</th>\n",
       "      <td>-0.244308</td>\n",
       "      <td>-0.111326</td>\n",
       "      <td>0.194713</td>\n",
       "      <td>0.009373</td>\n",
       "      <td>-0.004166</td>\n",
       "      <td>0.004836</td>\n",
       "      <td>-0.008502</td>\n",
       "      <td>0.140823</td>\n",
       "      <td>-0.042578</td>\n",
       "      <td>0.030802</td>\n",
       "      <td>-0.037849</td>\n",
       "      <td>-0.160498</td>\n",
       "      <td>-0.017210</td>\n",
       "      <td>1.000000</td>\n",
       "    </tr>\n",
       "  </tbody>\n",
       "</table>\n",
       "</div>"
      ],
      "text/plain": [
       "                                  year  selling_price  km_driven  fuel_Diesel   \n",
       "year                          1.000000       0.413922  -0.419688     0.121424  \\\n",
       "selling_price                 0.413922       1.000000  -0.192289     0.282947   \n",
       "km_driven                    -0.419688      -0.192289   1.000000     0.285396   \n",
       "fuel_Diesel                   0.121424       0.282947   0.285396     1.000000   \n",
       "fuel_Electric                -0.025540      -0.005095  -0.001372    -0.015063   \n",
       "fuel_LPG                     -0.051266      -0.042434   0.036652    -0.072422   \n",
       "fuel_Petrol                  -0.114908      -0.269453  -0.291139    -0.970934   \n",
       "seller_type_Individual       -0.173703      -0.236798   0.182663    -0.035314   \n",
       "seller_type_Trustmark Dealer  0.100225       0.110176  -0.089858    -0.007911   \n",
       "transmission_Manual          -0.143800      -0.530205   0.120226    -0.048098   \n",
       "owner_Fourth & Above Owner   -0.186361      -0.078725   0.097349    -0.021054   \n",
       "owner_Second Owner           -0.292349      -0.161986   0.195203     0.003524   \n",
       "owner_Test Drive Car          0.095795       0.048799  -0.083445    -0.010575   \n",
       "owner_Third Owner            -0.244308      -0.111326   0.194713     0.009373   \n",
       "\n",
       "                              fuel_Electric  fuel_LPG  fuel_Petrol   \n",
       "year                              -0.025540 -0.051266    -0.114908  \\\n",
       "selling_price                     -0.005095 -0.042434    -0.269453   \n",
       "km_driven                         -0.001372  0.036652    -0.291139   \n",
       "fuel_Diesel                       -0.015063 -0.072422    -0.970934   \n",
       "fuel_Electric                      1.000000 -0.001108    -0.014856   \n",
       "fuel_LPG                          -0.001108  1.000000    -0.071427   \n",
       "fuel_Petrol                       -0.014856 -0.071427     1.000000   \n",
       "seller_type_Individual            -0.026118  0.035122     0.029845   \n",
       "seller_type_Trustmark Dealer      -0.002355 -0.011324     0.012489   \n",
       "transmission_Manual               -0.044746  0.024764     0.039614   \n",
       "owner_Fourth & Above Owner        -0.002094  0.013384     0.011502   \n",
       "owner_Second Owner                 0.025960  0.030141    -0.012717   \n",
       "owner_Test Drive Car              -0.000952 -0.004577     0.012427   \n",
       "owner_Third Owner                 -0.004166  0.004836    -0.008502   \n",
       "\n",
       "                              seller_type_Individual   \n",
       "year                                       -0.173703  \\\n",
       "selling_price                              -0.236798   \n",
       "km_driven                                   0.182663   \n",
       "fuel_Diesel                                -0.035314   \n",
       "fuel_Electric                              -0.026118   \n",
       "fuel_LPG                                    0.035122   \n",
       "fuel_Petrol                                 0.029845   \n",
       "seller_type_Individual                      1.000000   \n",
       "seller_type_Trustmark Dealer               -0.266904   \n",
       "transmission_Manual                         0.214163   \n",
       "owner_Fourth & Above Owner                  0.072322   \n",
       "owner_Second Owner                          0.186573   \n",
       "owner_Test Drive Car                       -0.107886   \n",
       "owner_Third Owner                           0.140823   \n",
       "\n",
       "                              seller_type_Trustmark Dealer   \n",
       "year                                              0.100225  \\\n",
       "selling_price                                     0.110176   \n",
       "km_driven                                        -0.089858   \n",
       "fuel_Diesel                                      -0.007911   \n",
       "fuel_Electric                                    -0.002355   \n",
       "fuel_LPG                                         -0.011324   \n",
       "fuel_Petrol                                       0.012489   \n",
       "seller_type_Individual                           -0.266904   \n",
       "seller_type_Trustmark Dealer                      1.000000   \n",
       "transmission_Manual                              -0.042346   \n",
       "owner_Fourth & Above Owner                       -0.021395   \n",
       "owner_Second Owner                               -0.076764   \n",
       "owner_Test Drive Car                             -0.009729   \n",
       "owner_Third Owner                                -0.042578   \n",
       "\n",
       "                              transmission_Manual  owner_Fourth & Above Owner   \n",
       "year                                    -0.143800                   -0.186361  \\\n",
       "selling_price                           -0.530205                   -0.078725   \n",
       "km_driven                                0.120226                    0.097349   \n",
       "fuel_Diesel                             -0.048098                   -0.021054   \n",
       "fuel_Electric                           -0.044746                   -0.002094   \n",
       "fuel_LPG                                 0.024764                    0.013384   \n",
       "fuel_Petrol                              0.039614                    0.011502   \n",
       "seller_type_Individual                   0.214163                    0.072322   \n",
       "seller_type_Trustmark Dealer            -0.042346                   -0.021395   \n",
       "transmission_Manual                      1.000000                    0.035597   \n",
       "owner_Fourth & Above Owner               0.035597                    1.000000   \n",
       "owner_Second Owner                       0.068068                   -0.080648   \n",
       "owner_Test Drive Car                     0.009152                   -0.008648   \n",
       "owner_Third Owner                        0.030802                   -0.037849   \n",
       "\n",
       "                              owner_Second Owner  owner_Test Drive Car   \n",
       "year                                   -0.292349              0.095795  \\\n",
       "selling_price                          -0.161986              0.048799   \n",
       "km_driven                               0.195203             -0.083445   \n",
       "fuel_Diesel                             0.003524             -0.010575   \n",
       "fuel_Electric                           0.025960             -0.000952   \n",
       "fuel_LPG                                0.030141             -0.004577   \n",
       "fuel_Petrol                            -0.012717              0.012427   \n",
       "seller_type_Individual                  0.186573             -0.107886   \n",
       "seller_type_Trustmark Dealer           -0.076764             -0.009729   \n",
       "transmission_Manual                     0.068068              0.009152   \n",
       "owner_Fourth & Above Owner             -0.080648             -0.008648   \n",
       "owner_Second Owner                      1.000000             -0.036672   \n",
       "owner_Test Drive Car                   -0.036672              1.000000   \n",
       "owner_Third Owner                      -0.160498             -0.017210   \n",
       "\n",
       "                              owner_Third Owner  \n",
       "year                                  -0.244308  \n",
       "selling_price                         -0.111326  \n",
       "km_driven                              0.194713  \n",
       "fuel_Diesel                            0.009373  \n",
       "fuel_Electric                         -0.004166  \n",
       "fuel_LPG                               0.004836  \n",
       "fuel_Petrol                           -0.008502  \n",
       "seller_type_Individual                 0.140823  \n",
       "seller_type_Trustmark Dealer          -0.042578  \n",
       "transmission_Manual                    0.030802  \n",
       "owner_Fourth & Above Owner            -0.037849  \n",
       "owner_Second Owner                    -0.160498  \n",
       "owner_Test Drive Car                  -0.017210  \n",
       "owner_Third Owner                      1.000000  "
      ]
     },
     "execution_count": 125,
     "metadata": {},
     "output_type": "execute_result"
    }
   ],
   "source": [
    "mydata.corr()"
   ]
  },
  {
   "cell_type": "code",
   "execution_count": null,
   "metadata": {},
   "outputs": [],
   "source": []
  }
 ],
 "metadata": {
  "kernelspec": {
   "display_name": "Python 3",
   "language": "python",
   "name": "python3"
  },
  "language_info": {
   "codemirror_mode": {
    "name": "ipython",
    "version": 3
   },
   "file_extension": ".py",
   "mimetype": "text/x-python",
   "name": "python",
   "nbconvert_exporter": "python",
   "pygments_lexer": "ipython3",
   "version": "3.10.5"
  }
 },
 "nbformat": 4,
 "nbformat_minor": 2
}
